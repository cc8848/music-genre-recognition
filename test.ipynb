{
 "cells": [
  {
   "cell_type": "code",
   "execution_count": 53,
   "metadata": {},
   "outputs": [],
   "source": [
    "import matplotlib\n",
    "matplotlib.use('Agg')\n",
    "\n",
    "import numpy as np\n",
    "import librosa as lbr\n",
    "import keras.backend as K"
   ]
  },
  {
   "cell_type": "code",
   "execution_count": 54,
   "metadata": {
    "collapsed": true
   },
   "outputs": [],
   "source": [
    "new_input, sample_rate = lbr.load('../genre-recognition-master/data/genres/blues/blues.00001.au', mono=True)"
   ]
  },
  {
   "cell_type": "code",
   "execution_count": 55,
   "metadata": {
    "collapsed": true
   },
   "outputs": [],
   "source": [
    "WINDOW_SIZE = 2048\n",
    "WINDOW_STRIDE = WINDOW_SIZE // 2\n",
    "N_MELS = 128\n",
    "MEL_KWARGS = {\n",
    "    'n_fft': WINDOW_SIZE,\n",
    "    'hop_length': WINDOW_STRIDE,\n",
    "    'n_mels': N_MELS\n",
    "}\n",
    "features = lbr.feature.melspectrogram(new_input, **MEL_KWARGS).T"
   ]
  },
  {
   "cell_type": "code",
   "execution_count": 56,
   "metadata": {},
   "outputs": [
    {
     "name": "stdout",
     "output_type": "stream",
     "text": [
      "(647, 128)\n"
     ]
    }
   ],
   "source": [
    "print features.shape"
   ]
  },
  {
   "cell_type": "code",
   "execution_count": 57,
   "metadata": {},
   "outputs": [
    {
     "name": "stdout",
     "output_type": "stream",
     "text": [
      "(647, 128)\n"
     ]
    }
   ],
   "source": [
    "import pickle\n",
    "x=features.shape[0]-647\n",
    "features = features[x:, :]\n",
    "print features.shape\n",
    "from keras.models import load_model\n",
    "model = load_model('model/weights_fma_model.h5')\n",
    "data=pickle.load(open('../genre-recognition-master/temp/1.pkl','r'))"
   ]
  },
  {
   "cell_type": "code",
   "execution_count": 58,
   "metadata": {},
   "outputs": [
    {
     "name": "stdout",
     "output_type": "stream",
     "text": [
      "(1000, 646, 128)\n"
     ]
    }
   ],
   "source": [
    "x=data['x']\n",
    "print x.shape"
   ]
  },
  {
   "cell_type": "code",
   "execution_count": 59,
   "metadata": {},
   "outputs": [
    {
     "name": "stdout",
     "output_type": "stream",
     "text": [
      "(1000, 647, 128)\n",
      "[  7.30659963e-07   9.99981523e-01   2.17919364e-06   1.00655348e-06\n",
      "   1.23562559e-05   1.50300491e-06   7.45651732e-07   2.25959451e-09]\n"
     ]
    }
   ],
   "source": [
    "# print np.zeros((1000,1,128))\n",
    "x=np.append(x, np.zeros((1000,1,128)), axis=1)\n",
    "print x.shape\n",
    "output=model.predict(x)\n",
    "print output[0]"
   ]
  },
  {
   "cell_type": "code",
   "execution_count": 69,
   "metadata": {},
   "outputs": [
    {
     "name": "stdout",
     "output_type": "stream",
     "text": [
      "(1000, 8)\n"
     ]
    }
   ],
   "source": [
    "print output.shape\n",
    "np.sum(output[0])\n",
    "results=np.argmax(output,axis=1)"
   ]
  },
  {
   "cell_type": "code",
   "execution_count": 70,
   "metadata": {},
   "outputs": [
    {
     "name": "stdout",
     "output_type": "stream",
     "text": [
      "1\n"
     ]
    }
   ],
   "source": [
    "print results[0]"
   ]
  }
 ],
 "metadata": {
  "kernelspec": {
   "display_name": "Python 2",
   "language": "python",
   "name": "python2"
  },
  "language_info": {
   "codemirror_mode": {
    "name": "ipython",
    "version": 2
   },
   "file_extension": ".py",
   "mimetype": "text/x-python",
   "name": "python",
   "nbconvert_exporter": "python",
   "pygments_lexer": "ipython2",
   "version": "2.7.13"
  }
 },
 "nbformat": 4,
 "nbformat_minor": 2
}
